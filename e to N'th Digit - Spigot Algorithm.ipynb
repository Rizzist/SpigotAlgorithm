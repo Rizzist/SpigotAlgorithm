{
 "cells": [
  {
   "cell_type": "markdown",
   "metadata": {},
   "source": [
    "This is going to be python practice bro"
   ]
  },
  {
   "cell_type": "code",
   "execution_count": 79,
   "metadata": {},
   "outputs": [
    {
     "name": "stdout",
     "output_type": "stream",
     "text": [
      "How many digits would you like sir: 15\n",
      "[10000, 10000]\n"
     ]
    }
   ],
   "source": [
    "import math\n",
    "nums = [2]\n",
    "n = int(input(\"How many digits would you like sir: \"))\n",
    "print(digits)\n",
    "k = 1"
   ]
  },
  {
   "cell_type": "code",
   "execution_count": 80,
   "metadata": {},
   "outputs": [
    {
     "name": "stdout",
     "output_type": "stream",
     "text": [
      "[2, 27.182818284582297, 271.828182845823, 2718.28182845823, 27182.818284582296, 271828.182845823, 2718281.82845823, 27182818.2845823, 271828182.845823, 2718281828.45823, 27182818284.5823, 271828182845.82297, 2718281828458.2295, 27182818284582.297, 271828182845822.97]\n",
      "[10000, 10000]\n"
     ]
    }
   ],
   "source": [
    "while len(nums) < n:\n",
    "    temp = 10**k\n",
    "    for i in range(1, n):\n",
    "        temp = 10**k + (1/(n - i))*temp\n",
    "    nums.append(temp)\n",
    "    k += 1\n",
    "print(nums)\n",
    "print(digits)"
   ]
  },
  {
   "cell_type": "code",
   "execution_count": null,
   "metadata": {},
   "outputs": [],
   "source": []
  }
 ],
 "metadata": {
  "kernelspec": {
   "display_name": "Python 3",
   "language": "python",
   "name": "python3"
  },
  "language_info": {
   "codemirror_mode": {
    "name": "ipython",
    "version": 3
   },
   "file_extension": ".py",
   "mimetype": "text/x-python",
   "name": "python",
   "nbconvert_exporter": "python",
   "pygments_lexer": "ipython3",
   "version": "3.7.6"
  }
 },
 "nbformat": 4,
 "nbformat_minor": 4
}
